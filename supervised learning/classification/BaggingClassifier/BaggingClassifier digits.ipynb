{
 "cells": [
  {
   "cell_type": "code",
   "execution_count": null,
   "id": "2185910b-d04e-433c-b1e3-2940c864749b",
   "metadata": {},
   "outputs": [],
   "source": [
    "import pandas as pd"
   ]
  },
  {
   "cell_type": "code",
   "execution_count": null,
   "id": "d3bb6cd7-2e3b-4ac7-9a98-c67fcbe1b61c",
   "metadata": {},
   "outputs": [],
   "source": [
    "import numpy as np"
   ]
  },
  {
   "cell_type": "code",
   "execution_count": null,
   "id": "b5e27430-7c50-4ffc-bb41-a6bfcecda88e",
   "metadata": {},
   "outputs": [],
   "source": [
    "import seaborn as sns"
   ]
  },
  {
   "cell_type": "code",
   "execution_count": null,
   "id": "8eb4bc57-078e-4503-b13c-ce54188c1836",
   "metadata": {},
   "outputs": [],
   "source": [
    "import matplotlib.pyplot as plt"
   ]
  },
  {
   "cell_type": "code",
   "execution_count": null,
   "id": "b4ed761b-45ec-42bf-981e-7aa473630a61",
   "metadata": {},
   "outputs": [],
   "source": [
    "from sklearn.datasets import load_digits"
   ]
  },
  {
   "cell_type": "code",
   "execution_count": null,
   "id": "ccb23d59-cd98-47da-8987-1f3637967e82",
   "metadata": {},
   "outputs": [],
   "source": [
    "from sklearn.preprocessing import LabelEncoder"
   ]
  },
  {
   "cell_type": "code",
   "execution_count": null,
   "id": "92c4c7db-4322-4661-b1cd-7d1c1eed94d3",
   "metadata": {},
   "outputs": [],
   "source": [
    "from sklearn.tree import DecisionTreeClassifier"
   ]
  },
  {
   "cell_type": "code",
   "execution_count": null,
   "id": "32c6395e-13b8-431f-b3ba-d585f62fd32b",
   "metadata": {},
   "outputs": [],
   "source": [
    "from sklearn.naive_bayes import GaussianNB"
   ]
  },
  {
   "cell_type": "code",
   "execution_count": null,
   "id": "6b1f0505-dab3-4454-8a9b-5346626269d6",
   "metadata": {},
   "outputs": [],
   "source": [
    "from sklearn.neighbors import KNeighborsClassifier"
   ]
  },
  {
   "cell_type": "code",
   "execution_count": null,
   "id": "269fc5e4-4144-4085-a6d5-f0487d0fd876",
   "metadata": {},
   "outputs": [],
   "source": [
    "from sklearn.ensemble import BaggingClassifier, RandomForestClassifier"
   ]
  },
  {
   "cell_type": "code",
   "execution_count": null,
   "id": "b6b24ef3-dce4-47d2-a470-7dc15ce84bc4",
   "metadata": {},
   "outputs": [],
   "source": [
    "from sklearn.linear_model import LogisticRegression"
   ]
  },
  {
   "cell_type": "code",
   "execution_count": null,
   "id": "bdf14835-1006-4b44-984a-4c6f153e381f",
   "metadata": {},
   "outputs": [],
   "source": [
    "from sklearn.model_selection import train_test_split"
   ]
  },
  {
   "cell_type": "code",
   "execution_count": null,
   "id": "cbeb47ba-7499-4f65-8412-f8501b55d288",
   "metadata": {},
   "outputs": [],
   "source": [
    "from sklearn.metrics import confusion_matrix"
   ]
  },
  {
   "cell_type": "code",
   "execution_count": null,
   "id": "ff052b8e-1aa1-488f-9cad-c06bb0a3bb9a",
   "metadata": {},
   "outputs": [],
   "source": [
    "data=load_digits()"
   ]
  },
  {
   "cell_type": "code",
   "execution_count": null,
   "id": "ce403c73-e7e7-4e85-9426-99c0bb00fb15",
   "metadata": {},
   "outputs": [],
   "source": [
    "dir(data)"
   ]
  },
  {
   "cell_type": "code",
   "execution_count": null,
   "id": "c768cafb-f8f2-4b78-b72b-e0a4e0605f1e",
   "metadata": {},
   "outputs": [],
   "source": [
    "x=data.data"
   ]
  },
  {
   "cell_type": "code",
   "execution_count": null,
   "id": "268c0acb-d077-4e0f-8ec6-0db83bd0dadb",
   "metadata": {},
   "outputs": [],
   "source": [
    "y=data.target"
   ]
  },
  {
   "cell_type": "code",
   "execution_count": null,
   "id": "741ac23a-2d41-4c4c-b895-95cf6321a0bd",
   "metadata": {
    "scrolled": true
   },
   "outputs": [],
   "source": [
    "#ploting digits\n",
    "plt.gray()\n",
    "for i in range(5):\n",
    "    plt.matshow(data.images[i])"
   ]
  },
  {
   "cell_type": "code",
   "execution_count": null,
   "id": "2ff05438-c1c9-407b-971f-9980a8cbe8e8",
   "metadata": {},
   "outputs": [],
   "source": [
    "#train and test data\n",
    "x,tx,y,ty=train_test_split(x,y,test_size=0.2)"
   ]
  },
  {
   "cell_type": "code",
   "execution_count": null,
   "id": "f530eec6-8ce3-4f7a-bd24-70d7fb7f14e6",
   "metadata": {},
   "outputs": [],
   "source": [
    "#creat model\n",
    "models=[LogisticRegression(max_iter=5000),\n",
    "        RandomForestClassifier(n_estimators=70),\n",
    "        GaussianNB(),\n",
    "        DecisionTreeClassifier(),\n",
    "        KNeighborsClassifier()]\n",
    "model={}\n",
    "len(models)"
   ]
  },
  {
   "cell_type": "code",
   "execution_count": null,
   "id": "e241d6c0-d984-46fa-8071-92a282e4360b",
   "metadata": {},
   "outputs": [],
   "source": [
    "#train model\n",
    "py=pd.DataFrame()\n",
    "for i,j in zip(range(len(models)),models):\n",
    "    model[i]=BaggingClassifier(estimator=j,n_estimators=70)\n",
    "    model[i].fit(x,y)\n",
    "    print(model[i].score(tx,ty))\n",
    "    py[f\"{i}\"]=model[i].predict(tx)\n",
    "py.head()"
   ]
  },
  {
   "cell_type": "code",
   "execution_count": null,
   "id": "0b0897d6-2bb3-48af-9295-ecd8152b1871",
   "metadata": {},
   "outputs": [],
   "source": [
    "yc={}\n",
    "for i in range(len(models)):\n",
    "    yc[i]=confusion_matrix(ty,py[f\"{i}\"])\n",
    "    yc[i]"
   ]
  },
  {
   "cell_type": "code",
   "execution_count": null,
   "id": "9788a57a-b50b-4cb2-935f-6b45d98bfa97",
   "metadata": {},
   "outputs": [],
   "source": [
    "#heatmap \n",
    "for i in range(len(models)):\n",
    "    sns.heatmap(yc[i],annot=True)\n",
    "    plt.xlabel(\"truth\")\n",
    "    plt.ylabel(\"pridected\")\n",
    "    plt.show()"
   ]
  },
  {
   "cell_type": "code",
   "execution_count": null,
   "id": "74f21e05-1dcd-4c34-939a-f13f73a42ccc",
   "metadata": {},
   "outputs": [],
   "source": []
  }
 ],
 "metadata": {
  "kernelspec": {
   "display_name": "Python [conda env:base] *",
   "language": "python",
   "name": "conda-base-py"
  },
  "language_info": {
   "codemirror_mode": {
    "name": "ipython",
    "version": 3
   },
   "file_extension": ".py",
   "mimetype": "text/x-python",
   "name": "python",
   "nbconvert_exporter": "python",
   "pygments_lexer": "ipython3",
   "version": "3.12.7"
  }
 },
 "nbformat": 4,
 "nbformat_minor": 5
}
